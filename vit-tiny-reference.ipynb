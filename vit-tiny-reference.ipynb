{
 "cells": [
  {
   "cell_type": "code",
   "execution_count": 1,
   "id": "8f49d978",
   "metadata": {},
   "outputs": [],
   "source": [
    "import numpy as np\n",
    "import torch\n",
    "from torch.utils.data import Dataset, DataLoader\n",
    "from PIL import Image\n",
    "import torchvision.transforms as T\n",
    "\n",
    "\n",
    "def load_cifar10_batch(path):\n",
    "    with open(path, 'rb') as f:\n",
    "        data = np.frombuffer(f.read(), dtype=np.uint8)\n",
    "    data = data.reshape(-1, 3073)\n",
    "    labels = data[:, 0]\n",
    "    images = data[:, 1:].reshape(-1, 3, 32, 32)\n",
    "    return images, labels\n",
    "\n",
    "\n",
    "class CIFARBinaryDataset(Dataset):\n",
    "    def __init__(self, images, labels, transform=None):\n",
    "        self.images = images\n",
    "        self.labels = labels\n",
    "        self.transform = transform\n",
    "\n",
    "    def __len__(self):\n",
    "        return len(self.images)\n",
    "\n",
    "    def __getitem__(self, idx):\n",
    "        img = self.images[idx]                     # (3, 32, 32) uint8\n",
    "        img = np.transpose(img, (1, 2, 0))        # -> (32, 32, 3)\n",
    "        img = Image.fromarray(img)\n",
    "\n",
    "        if self.transform:\n",
    "            img = self.transform(img)\n",
    "\n",
    "        return img, int(self.labels[idx])\n"
   ]
  },
  {
   "cell_type": "code",
   "execution_count": 2,
   "id": "c29e3e0c",
   "metadata": {},
   "outputs": [],
   "source": [
    "train_images, train_labels = load_cifar10_batch(\"dataset/cifar-10-batches-bin/train_all.bin\")\n",
    "test_images, test_labels = load_cifar10_batch(\"dataset/cifar-10-batches-bin/test_batch.bin\")\n"
   ]
  },
  {
   "cell_type": "markdown",
   "id": "9e0ad61e",
   "metadata": {},
   "source": [
    "# IMPORTANT"
   ]
  },
  {
   "cell_type": "code",
   "execution_count": 3,
   "id": "ce883cd3",
   "metadata": {},
   "outputs": [
    {
     "name": "stderr",
     "output_type": "stream",
     "text": [
      "/home/bing-bong-man/anaconda3/envs/AIML/lib/python3.10/site-packages/tqdm/auto.py:21: TqdmWarning: IProgress not found. Please update jupyter and ipywidgets. See https://ipywidgets.readthedocs.io/en/stable/user_install.html\n",
      "  from .autonotebook import tqdm as notebook_tqdm\n"
     ]
    }
   ],
   "source": [
    "import timm\n",
    "import torch\n",
    "from torch.utils.data import DataLoader\n",
    "\n",
    "device = \"cuda\" if torch.cuda.is_available() else \"cpu\"\n",
    "\n",
    "model = timm.create_model(\n",
    "    \"vit_tiny_patch16_224\",\n",
    "    pretrained=False,   # <-- NO PRETRAIN\n",
    "    num_classes=10      # CIFAR-10\n",
    ").to(device)\n"
   ]
  },
  {
   "cell_type": "markdown",
   "id": "43fb4bbe",
   "metadata": {},
   "source": [
    "---"
   ]
  },
  {
   "cell_type": "code",
   "execution_count": null,
   "id": "0e0d8bc3",
   "metadata": {},
   "outputs": [
    {
     "name": "stderr",
     "output_type": "stream",
     "text": [
      "/home/bing-bong-man/anaconda3/envs/AIML/lib/python3.10/site-packages/tqdm/auto.py:21: TqdmWarning: IProgress not found. Please update jupyter and ipywidgets. See https://ipywidgets.readthedocs.io/en/stable/user_install.html\n",
      "  from .autonotebook import tqdm as notebook_tqdm\n"
     ]
    },
    {
     "name": "stdout",
     "output_type": "stream",
     "text": [
      "✅ Weights Loaded Successfully\n"
     ]
    }
   ],
   "source": [
    "import torch\n",
    "import json\n",
    "\n",
    "# 1. Load model (same architecture used before)\n",
    "import timm\n",
    "model = timm.create_model('vit_tiny_patch16_224', num_classes=10)\n",
    "model = model.to('cuda')\n",
    "\n",
    "# 2. Load JSON\n",
    "with open('parameters/weights.json', 'r') as f:\n",
    "    data = json.load(f)\n",
    "\n",
    "# 3. Convert lists to tensors\n",
    "state_dict = model.state_dict()\n",
    "\n",
    "for key in data:\n",
    "    if key not in state_dict:\n",
    "        print(f\"⚠️ Key {key} not in model state_dict, skipping...\")\n",
    "        continue\n",
    "    \n",
    "    arr = data[key]\n",
    "    tensor = torch.tensor(arr, dtype=state_dict[key].dtype)\n",
    "\n",
    "    # Reshape if needed (JSON lost shape sometimes)\n",
    "    if tensor.shape != state_dict[key].shape:\n",
    "        tensor = tensor.reshape(state_dict[key].shape)\n",
    "\n",
    "    state_dict[key] = tensor\n",
    "\n",
    "# 4. Load updated weights\n",
    "model.load_state_dict(state_dict)\n",
    "\n",
    "print(\"✅ Weights Loaded Successfully\")\n"
   ]
  },
  {
   "cell_type": "markdown",
   "id": "792298e8",
   "metadata": {},
   "source": [
    "---"
   ]
  },
  {
   "cell_type": "code",
   "execution_count": 4,
   "id": "e8fc362a",
   "metadata": {},
   "outputs": [],
   "source": [
    "import torch.nn as nn\n",
    "device = \"cuda\" if torch.cuda.is_available() else \"cpu\""
   ]
  },
  {
   "cell_type": "code",
   "execution_count": 5,
   "id": "f8cc2148",
   "metadata": {},
   "outputs": [],
   "source": [
    "import torchvision.transforms as T\n",
    "\n",
    "transform_train = T.Compose([\n",
    "    T.RandomResizedCrop(224, scale=(0.7, 1.0)),\n",
    "    T.RandomHorizontalFlip(),\n",
    "    T.ToTensor(),\n",
    "    T.Normalize([0.5]*3, [0.5]*3),\n",
    "])\n",
    "\n",
    "transform_test = T.Compose([\n",
    "    T.Resize((224, 224)),\n",
    "    T.ToTensor(),\n",
    "    T.Normalize([0.5]*3, [0.5]*3),\n",
    "])\n"
   ]
  },
  {
   "cell_type": "code",
   "execution_count": 6,
   "id": "ec5d83ee",
   "metadata": {},
   "outputs": [],
   "source": [
    "train_loader = DataLoader(\n",
    "    CIFARBinaryDataset(train_images, train_labels, transform_train),\n",
    "    batch_size=64, shuffle=True\n",
    ")\n",
    "\n",
    "test_loader = DataLoader(\n",
    "    CIFARBinaryDataset(test_images, test_labels, transform_test),\n",
    "    batch_size=64, shuffle=False\n",
    ")\n"
   ]
  },
  {
   "cell_type": "code",
   "execution_count": 7,
   "id": "5390eb96",
   "metadata": {},
   "outputs": [],
   "source": [
    "criterion = nn.CrossEntropyLoss()\n",
    "\n",
    "optimizer = torch.optim.AdamW(\n",
    "    model.parameters(),\n",
    "    lr=3e-4,\n",
    "    weight_decay=0.05\n",
    ")\n",
    "\n",
    "scheduler = torch.optim.lr_scheduler.CosineAnnealingLR(optimizer, T_max=50)\n"
   ]
  },
  {
   "cell_type": "code",
   "execution_count": 8,
   "id": "20c546b9",
   "metadata": {},
   "outputs": [],
   "source": [
    "def train_one_epoch(model, loader, optimizer, criterion):\n",
    "    model.train()\n",
    "    total_loss = 0\n",
    "\n",
    "    for imgs, labels in loader:\n",
    "        imgs, labels = imgs.to(device), labels.to(device)\n",
    "\n",
    "        optimizer.zero_grad()\n",
    "        outputs = model(imgs)\n",
    "        loss = criterion(outputs, labels)\n",
    "        loss.backward()\n",
    "        optimizer.step()\n",
    "\n",
    "        total_loss += loss.item()\n",
    "\n",
    "    return total_loss / len(loader)\n"
   ]
  },
  {
   "cell_type": "code",
   "execution_count": 9,
   "id": "e022ca69",
   "metadata": {},
   "outputs": [],
   "source": [
    "def evaluate(model, loader):\n",
    "    model.eval()\n",
    "    correct = 0\n",
    "    total = 0\n",
    "\n",
    "    with torch.no_grad():\n",
    "        for imgs, labels in loader:\n",
    "            imgs, labels = imgs.to(device), labels.to(device)\n",
    "            preds = model(imgs).argmax(dim=1)\n",
    "            correct += (preds == labels).sum().item()\n",
    "            total += labels.size(0)\n",
    "\n",
    "    return correct / total\n"
   ]
  },
  {
   "cell_type": "code",
   "execution_count": 10,
   "id": "5d468f8a",
   "metadata": {},
   "outputs": [
    {
     "name": "stdout",
     "output_type": "stream",
     "text": [
      "Epoch 1/10 | Loss: 1.8418 | Test Acc: 39.61%\n",
      "Epoch 2/10 | Loss: 1.5668 | Test Acc: 42.98%\n",
      "Epoch 3/10 | Loss: 1.4194 | Test Acc: 45.61%\n",
      "Epoch 4/10 | Loss: 1.3240 | Test Acc: 52.49%\n",
      "Epoch 5/10 | Loss: 1.2545 | Test Acc: 54.78%\n",
      "Epoch 6/10 | Loss: 1.1794 | Test Acc: 58.81%\n",
      "Epoch 7/10 | Loss: 1.1081 | Test Acc: 61.57%\n",
      "Epoch 8/10 | Loss: 1.0497 | Test Acc: 61.97%\n",
      "Epoch 9/10 | Loss: 1.0038 | Test Acc: 63.93%\n",
      "Epoch 10/10 | Loss: 0.9568 | Test Acc: 66.15%\n"
     ]
    }
   ],
   "source": [
    "EPOCHS = 10   # ViT needs longer training from scratch\n",
    "\n",
    "for epoch in range(EPOCHS):\n",
    "    loss = train_one_epoch(model, train_loader, optimizer, criterion)\n",
    "    acc = evaluate(model, test_loader)\n",
    "    scheduler.step()\n",
    "    \n",
    "    print(f\"Epoch {epoch+1}/{EPOCHS} | Loss: {loss:.4f} | Test Acc: {acc*100:.2f}%\")\n"
   ]
  },
  {
   "cell_type": "code",
   "execution_count": 11,
   "id": "c8e5898b",
   "metadata": {},
   "outputs": [],
   "source": [
    "import json\n",
    "    \n",
    "state = model.state_dict()\n",
    "\n",
    "export_dict = {}\n",
    "\n",
    "for name, param in state.items():\n",
    "    export_dict[name] = param.detach().cpu().numpy().tolist()  # convert tensor → python list\n",
    "\n",
    "with open(\"parameters/weights.json\", \"w\") as f:\n",
    "    json.dump(export_dict, f, indent=2)\n"
   ]
  }
 ],
 "metadata": {
  "kernelspec": {
   "display_name": "AIML",
   "language": "python",
   "name": "python3"
  },
  "language_info": {
   "codemirror_mode": {
    "name": "ipython",
    "version": 3
   },
   "file_extension": ".py",
   "mimetype": "text/x-python",
   "name": "python",
   "nbconvert_exporter": "python",
   "pygments_lexer": "ipython3",
   "version": "3.10.19"
  }
 },
 "nbformat": 4,
 "nbformat_minor": 5
}
